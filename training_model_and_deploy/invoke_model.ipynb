{
 "cells": [
  {
   "cell_type": "code",
   "execution_count": null,
   "id": "deca0aa7",
   "metadata": {},
   "outputs": [],
   "source": [
    "!pip install boto3 pandas seaborn geopandas"
   ]
  },
  {
   "cell_type": "code",
   "execution_count": null,
   "id": "7c858807-2ec9-4cab-945f-eeaddb95fd35",
   "metadata": {
    "tags": []
   },
   "outputs": [],
   "source": [
    "import boto3\n",
    "import pandas as pd\n",
    "import pickle\n",
    "\n",
    "import os\n",
    "import seaborn as sns\n",
    "import matplotlib.pyplot as plt\n",
    "import pymongo\n",
    "import numpy as np\n",
    "import geopandas as gpd\n",
    "import itertools\n",
    "import math\n",
    "import predictdatascript\n",
    "\n",
    "\n",
    "\n",
    "# Create a SageMaker client\n",
    "sagemaker = boto3.client('sagemaker-runtime')\n",
    "\n",
    "# The name of your SageMaker endpoint\n",
    "endpoint_name = 'v-twac-2024'\n",
    "\n",
    "district = \"cau giay\"\n",
    "city = \"Ha Noi\"\n",
    "\n",
    "\n",
    "# Handle request body\n",
    "data = predictdatascript.append(district, city)\n",
    "weather_forecast_df = pd.DataFrame.from_dict(data)\n",
    "if len(weather_forecast_df) == 0: \n",
    "    raise Exception(\"Empty dataframe district\")\n",
    "transform_cities = weather_forecast_df.copy()\n",
    "\n",
    "####### Feat Engineering #######\n",
    "transform_cities['city'] = transform_cities['location'].apply(lambda x: city)\n",
    "transform_cities['datetime'] = transform_cities['datetime']\n",
    "\n",
    "transform_cities['is_rain'] = transform_cities.weather_description.apply(lambda x: 'rain' in x.lower())\n",
    "transform_cities['is_fog'] = transform_cities.weather_description.apply(lambda x: x == 'Fog')\n",
    "\n",
    "\n",
    "\n",
    "# Convert the DataFrame to a pickle string\n",
    "payload = pickle.dumps(transform_cities)\n",
    "\n",
    "\n",
    "\n",
    "# Send the prediction request\n",
    "response = sagemaker.invoke_endpoint(\n",
    "    EndpointName=endpoint_name,\n",
    "    Body=payload,\n",
    "    ContentType='application/python-pickle',\n",
    "    Accept='application/python-pickle'\n",
    ")\n",
    "\n",
    "# Load the prediction result from the response\n",
    "result = pickle.loads(response['Body'].read())\n",
    "\n",
    "\n",
    "\n",
    "forecast_result_df_ = pd.concat([transform_cities.reset_index(drop=True), pd.DataFrame(result)], axis=1)\n",
    "forecast_result_df_[\"timeframe\"] = forecast_result_df_.datetime.apply(lambda x: x.split(\":\")[1])\n",
    "forecast_result_df_['avg_delay'] = forecast_result_df_[[1, 2]].mean(axis=1)\n",
    "\n",
    "forecast_result_df_\n",
    "# predictdatascript.writeToCollection(forecast_result_df_)\n"
   ]
  },
  {
   "cell_type": "code",
   "execution_count": null,
   "id": "350940bf-0550-49f1-808a-8b064dda3b3e",
   "metadata": {},
   "outputs": [],
   "source": [
    "def plot_result(result):\n",
    "    \n",
    "    fig, axes = plt.subplots(nrows=3, ncols=1, figsize=(22, 15))\n",
    "    start_hour = int(result.timeframe.reset_index(drop=True)[0])\n",
    "    \n",
    "    pallete_sns = ['r'] * ( 24 - start_hour)\n",
    "    cycle_color = ['g', 'orange', 'r']\n",
    "    for i in range(math.floor((len(result) - 24 + start_hour) / 24)):\n",
    "        pallete_sns = pallete_sns + [cycle_color[i%len(cycle_color)]] * 24\n",
    "         \n",
    "    for k in range(3):\n",
    "        sns.barplot(x = [x for x in range(start_hour, start_hour + len(result.timeframe))],\n",
    "                y = result[k], ax=axes[k], palette=pallete_sns)\n",
    "        \n",
    "        axes[k].set_xticklabels([(x+start_hour) % 24 for x in range(len(result))])\n",
    "        for j in range(len(result)):\n",
    "            if (j + start_hour) % 24 == 0:\n",
    "                axes[k].get_xticklabels()[j].set_fontsize(16)\n",
    "                axes[k].get_xticklabels()[j].set_fontweight(\"bold\")\n",
    "        \n",
    "        ax = axes[k].twinx()\n",
    "        ax.grid(False)\n",
    "        sns.lineplot(x = [x for x in range(len(result.timeframe))],\n",
    "                y = result.precip, color='navy', marker='o', ax=ax, alpha=0.4)\n",
    "        \n",
    "\n",
    "        axes[k].set_title(f\"Magnitude of delay: {k+1}\")\n",
    "        axes[k].set_ylim(0, result[[0 , 1, 2]].to_numpy().max())\n",
    "\n",
    "    plt.show()\n",
    "\n",
    "def plot_avg(result):\n",
    "    fig, axes = plt.subplots(figsize=(22, 5))\n",
    "    start_hour = int(result.timeframe.reset_index(drop=True)[0])\n",
    "\n",
    "    pallete_sns = ['r'] * ( 24 - start_hour)\n",
    "    cycle_color = ['g', 'orange', 'r']\n",
    "    for i in range(math.floor((len(result) - 24 + start_hour) / 24)):\n",
    "        pallete_sns = pallete_sns + [cycle_color[i%len(cycle_color)]] * 24\n",
    "\n",
    "\n",
    "    sns.barplot(x = [x for x in range(len(result))], y = result['avg_delay'], ax=axes, palette=pallete_sns)\n",
    "\n",
    "    ax = axes.twinx()\n",
    "    ax.grid(False)\n",
    "    sns.lineplot(x = [x for x in range(len(result.timeframe))],\n",
    "                y = result.precip, color='navy', marker='o', ax=ax, alpha=0.4)\n",
    "\n",
    "    ticks_label = []\n",
    "    for x in range(len(result)):\n",
    "        if (x + start_hour) % 24 == 0:\n",
    "            temp_label = result.iloc[x].datetime.split(\":\")[0].split(\"-\")[-1]\n",
    "        else:\n",
    "            temp_label = (x+start_hour) % 24 \n",
    "        \n",
    "        ticks_label.append(temp_label)\n",
    "        \n",
    "    axes.set_xticklabels(ticks_label)\n",
    "    for j in range(len(result)):\n",
    "        if (j + start_hour) % 24 == 0:\n",
    "            axes.get_xticklabels()[j].set_fontsize(16)\n",
    "            axes.get_xticklabels()[j].set_fontweight(\"bold\")\n",
    "    axes.set_ylim(0)\n",
    "    axes.set_title(f\"AVG magnitude of delay\")\n",
    "    plt.show()"
   ]
  },
  {
   "cell_type": "code",
   "execution_count": null,
   "id": "897a8f71-eb56-49fd-b7c1-6d30195eea80",
   "metadata": {
    "tags": []
   },
   "outputs": [],
   "source": [
    "forecast_result_df_[24*3: 24*8]"
   ]
  },
  {
   "cell_type": "code",
   "execution_count": null,
   "id": "45d65ad6-c6e9-49a8-8fe2-a386e3f64e3f",
   "metadata": {
    "tags": []
   },
   "outputs": [],
   "source": [
    "import os\n",
    "import seaborn as sns\n",
    "import matplotlib.pyplot as plt\n",
    "import pandas as pd\n",
    "import numpy as np\n",
    "import math\n",
    "\n",
    "sns.set(style=\"darkgrid\")"
   ]
  },
  {
   "cell_type": "code",
   "execution_count": null,
   "id": "e956493f-cef2-4826-9837-f3687c24585c",
   "metadata": {
    "tags": []
   },
   "outputs": [],
   "source": [
    "plot_avg(forecast_result_df_[24*3:])"
   ]
  },
  {
   "cell_type": "code",
   "execution_count": null,
   "id": "3f47806d-fc6d-42d5-9517-4de84015273b",
   "metadata": {
    "tags": []
   },
   "outputs": [],
   "source": [
    "# plot_result(forecast_result_df_[24*3:])"
   ]
  },
  {
   "cell_type": "code",
   "execution_count": null,
   "id": "3541abea-f954-48c9-b717-24b815423d52",
   "metadata": {
    "tags": []
   },
   "outputs": [],
   "source": [
    "plot_avg(forecast_result_df_[24*3:])"
   ]
  },
  {
   "cell_type": "code",
   "execution_count": null,
   "id": "51dd5829-e2bb-4944-b623-5aeed759c835",
   "metadata": {
    "tags": []
   },
   "outputs": [],
   "source": [
    "forecast_result_df_exp = forecast_result_df_.copy()\n",
    "forecast_result_df_exp['avg_delay'] = forecast_result_df_exp[[0, 1, 2]].mean(axis=1)\n",
    "plot_avg(forecast_result_df_exp[24*3:])"
   ]
  },
  {
   "cell_type": "code",
   "execution_count": null,
   "id": "ff5d60b3-77b3-4844-899c-d3a73968572a",
   "metadata": {},
   "outputs": [],
   "source": []
  }
 ],
 "metadata": {
  "kernelspec": {
   "display_name": "Python 3",
   "language": "python",
   "name": "python3"
  },
  "language_info": {
   "codemirror_mode": {
    "name": "ipython",
    "version": 3
   },
   "file_extension": ".py",
   "mimetype": "text/x-python",
   "name": "python",
   "nbconvert_exporter": "python",
   "pygments_lexer": "ipython3",
   "version": "3.9.13"
  }
 },
 "nbformat": 4,
 "nbformat_minor": 5
}
