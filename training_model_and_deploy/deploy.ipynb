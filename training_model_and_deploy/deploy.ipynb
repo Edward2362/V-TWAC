{
 "cells": [
  {
   "cell_type": "code",
   "execution_count": null,
   "id": "5089f0c4-0f60-4ce5-af6f-f6632a1df2d3",
   "metadata": {
    "tags": []
   },
   "outputs": [],
   "source": [
    "import boto3\n",
    "import sagemaker\n",
    "from sagemaker import get_execution_role, image_uris\n",
    "from sagemaker.sklearn.model import SKLearnModel\n",
    "\n",
    "# Assume that you've already saved your model to a file named 'model.pkl'\n",
    "s3_model_path = 's3://namthai-bigdata-bucket/model/pipeline.tar.gz'\n",
    "\n",
    "\n",
    "# retrive image uri\n",
    "image_uri = image_uris.retrieve(framework='sklearn', region='ap-southeast-1',\n",
    "                                version='1.2-1',\n",
    "                                image_scope='inference')\n",
    "\n",
    "# endpoint name\n",
    "endpoint_name = 'v-twac-2024'\n",
    "\n",
    "\n",
    "# Get the execution role for SageMaker\n",
    "role = get_execution_role()\n",
    "\n",
    "\n",
    "\n",
    "# Create a SageMaker Scikit-learn Model\n",
    "sklearn_model = SKLearnModel(model_data=s3_model_path,\n",
    "                             role=role,\n",
    "                             image_uri=image_uri,\n",
    "                             entry_point='inference.py',\n",
    "                             dependencies=['requirements.txt', 'transformer.py'])\n",
    "                             \n",
    "                             \n",
    "\n",
    "# Deploy the model to a real-time endpoint\n",
    "predictor = sklearn_model.deploy(initial_instance_count=1,\n",
    "                         instance_type='ml.m5.xlarge',\n",
    "                         endpoint_name=endpoint_name,\n",
    "                         logs=True)"
   ]
  },
  {
   "cell_type": "code",
   "execution_count": null,
   "id": "cf3f428e-c5e8-4326-aa91-a6b01e31d322",
   "metadata": {
    "tags": []
   },
   "outputs": [],
   "source": [
    "# Remove the endpoint\n",
    "predictor.delete_endpoint(delete_endpoint_config=True)\n",
    "\n",
    "sagemaker = boto3.client('sagemaker')\n",
    "\n",
    "sagemaker.delete_endpoint(EndpointName='v-twac-2024')"
   ]
  },
  {
   "cell_type": "code",
   "execution_count": null,
   "id": "3c17a730-af73-44b9-a4bc-f3537bea8b6e",
   "metadata": {},
   "outputs": [],
   "source": []
  }
 ],
 "metadata": {
  "kernelspec": {
   "display_name": "conda_python3",
   "language": "python",
   "name": "conda_python3"
  },
  "language_info": {
   "codemirror_mode": {
    "name": "ipython",
    "version": 3
   },
   "file_extension": ".py",
   "mimetype": "text/x-python",
   "name": "python",
   "nbconvert_exporter": "python",
   "pygments_lexer": "ipython3",
   "version": "3.10.13"
  }
 },
 "nbformat": 4,
 "nbformat_minor": 5
}
